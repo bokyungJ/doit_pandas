{
 "cells": [
  {
   "cell_type": "markdown",
   "metadata": {},
   "source": [
    "# 문자열 추출하기"
   ]
  },
  {
   "cell_type": "code",
   "execution_count": 1,
   "metadata": {},
   "outputs": [],
   "source": [
    "word = 'grail'\n",
    "sent = 'a scratch'"
   ]
  },
  {
   "cell_type": "code",
   "execution_count": null,
   "metadata": {},
   "outputs": [],
   "source": [
    "# 인덱스로 추출가능"
   ]
  },
  {
   "cell_type": "markdown",
   "metadata": {},
   "source": [
    "# 메서드 연습"
   ]
  },
  {
   "cell_type": "code",
   "execution_count": 2,
   "metadata": {},
   "outputs": [
    {
     "name": "stdout",
     "output_type": "stream",
     "text": [
      "Black knight\n",
      "2\n",
      "True\n",
      "True\n",
      "6\n",
      "6\n",
      "False\n",
      "True\n",
      "False\n",
      "black knight\n",
      "BLACK KNIGHT\n",
      "scratch wound!\n",
      "I'm not dead\n",
      "['NI!', 'NI!', 'NI!']\n",
      "('3', ',', '4')\n",
      "   nine   \n",
      "00009\n"
     ]
    }
   ],
   "source": [
    "print('black Knight'.capitalize())\n",
    "print(\"It's just a flesh wound!\".count('u'))\n",
    "print(\"Halt! Who goes there?\".startswith(\"Halt\"))\n",
    "print(\"coconut\".endswith(\"nut\"))\n",
    "print(\"It's just a flesh wound!\".find(\"u\"))\n",
    "print(\"It's just a flesh wound!\".index(\"u\"))\n",
    "print(\"old woman\".isalpha())\n",
    "print(\"32\".isdecimal())\n",
    "print(\"I'm 37\".isalnum())\n",
    "print(\"Black Knight\".lower())\n",
    "print(\"Black Knight\".upper())\n",
    "print(\"flesh wound!\".replace(\"flesh\",\"scratch\"))\n",
    "print(\"    I'm not dead   \".strip())\n",
    "print(\"NI! NI! NI!\".split(sep=\" \"))\n",
    "print(\"3,4\".partition(\",\"))\n",
    "print(\"nine\".center(10))\n",
    "print(\"9\".zfill(5))"
   ]
  },
  {
   "cell_type": "markdown",
   "metadata": {},
   "source": [
    "# join, splitlines, replace 메서드 실습하기"
   ]
  },
  {
   "cell_type": "code",
   "execution_count": 3,
   "metadata": {},
   "outputs": [
    {
     "name": "stdout",
     "output_type": "stream",
     "text": [
      "40 46' 52.837 N 73 58' 26.302 W\n"
     ]
    }
   ],
   "source": [
    "# join() : 문자열을 연결하여 새로운 문자열을 반환\n",
    "d1 = \"40\"\n",
    "m1 = \"46'\"\n",
    "s1 = \"52.837\"\n",
    "u1 = \"N\"\n",
    "\n",
    "d2 = \"73\"\n",
    "m2 = \"58'\"\n",
    "s2 = \"26.302\"\n",
    "u2 = \"W\"\n",
    "\n",
    "coords = ' '.join([d1,m1,s1,u1,d2,m2,s2,u2])\n",
    "print(coords)"
   ]
  },
  {
   "cell_type": "code",
   "execution_count": 5,
   "metadata": {},
   "outputs": [
    {
     "name": "stdout",
     "output_type": "stream",
     "text": [
      "Guard: What? Ridden on a horse?\n",
      "King Arthur: Yes!\n",
      "Guard: You're using coconuts!\n",
      "King Arthur: What?\n",
      "Guard: You've got ... coconut[s] and you're bangin' 'em together.\n",
      "\n",
      "['Guard: What? Ridden on a horse?', 'King Arthur: Yes!', \"Guard: You're using coconuts!\", 'King Arthur: What?', \"Guard: You've got ... coconut[s] and you're bangin' 'em together.\"]\n"
     ]
    }
   ],
   "source": [
    "# splitlines() : 여러 행을 가진 문자열을 분리한 다음 리스트로 반환\n",
    "multi_str = \"\"\"Guard: What? Ridden on a horse?\n",
    "King Arthur: Yes!\n",
    "Guard: You're using coconuts!\n",
    "King Arthur: What?\n",
    "Guard: You've got ... coconut[s] and you're bangin' 'em together.\n",
    "\"\"\"\n",
    "print(multi_str)\n",
    "\n",
    "multi_str_split = multi_str.splitlines()\n",
    "print(multi_str_split)"
   ]
  },
  {
   "cell_type": "code",
   "execution_count": 6,
   "metadata": {},
   "outputs": [
    {
     "name": "stdout",
     "output_type": "stream",
     "text": [
      "['What? Ridden on a horse?', \"You're using coconuts!\", \"You've got ... coconut[s] and you're bangin' 'em together.\"]\n"
     ]
    }
   ],
   "source": [
    "# replace() : 문자열 치환\n",
    "guard = multi_str.replace(\"Guard: \",\"\").splitlines()[::2]\n",
    "print(guard)"
   ]
  },
  {
   "cell_type": "markdown",
   "metadata": {},
   "source": [
    "# 문자열 포매팅 실습하기"
   ]
  },
  {
   "cell_type": "code",
   "execution_count": 7,
   "metadata": {},
   "outputs": [
    {
     "name": "stdout",
     "output_type": "stream",
     "text": [
      "It's just a flesh wound\n"
     ]
    }
   ],
   "source": [
    "var = 'flesh wound'\n",
    "s = \"It's just a {}\"\n",
    "\n",
    "print(s.format(var))"
   ]
  },
  {
   "cell_type": "code",
   "execution_count": 8,
   "metadata": {},
   "outputs": [
    {
     "name": "stdout",
     "output_type": "stream",
     "text": [
      "Black Knight: 'tis but a scratch.\n",
      "King Arthur: A scratch? Your arm's off!\n",
      "\n"
     ]
    }
   ],
   "source": [
    "s = \"\"\"Black Knight: 'tis but a {0}.\n",
    "King Arthur: A {0}? Your arm's off!\n",
    "\"\"\"\n",
    "print(s.format('scratch'))\n"
   ]
  },
  {
   "cell_type": "code",
   "execution_count": 9,
   "metadata": {},
   "outputs": [
    {
     "name": "stdout",
     "output_type": "stream",
     "text": [
      "Hayden Planetarium Coordinates: 40.7815 N, 73.9733 W\n"
     ]
    }
   ],
   "source": [
    "s = \"Hayden Planetarium Coordinates: {lat}, {lon}\"\n",
    "print(s.format(lat='40.7815 N', lon='73.9733 W'))"
   ]
  },
  {
   "cell_type": "markdown",
   "metadata": {},
   "source": [
    "# 수치값 포매팅 실습"
   ]
  },
  {
   "cell_type": "code",
   "execution_count": 11,
   "metadata": {},
   "outputs": [
    {
     "name": "stdout",
     "output_type": "stream",
     "text": [
      "67,890\n",
      "0.0001031 or 0.0103%\n",
      "00042\n"
     ]
    }
   ],
   "source": [
    "print(\"{:,}\".format(67890))\n",
    "\n",
    "# 0-> format()에서 전달받을 값의 인덱스 의미\n",
    "print(\"{0:.4} or {0:.4%}\".format(7/67890))\n",
    "\n",
    "# 5자리 수로 표현하되 빈칸을 0으로 채우기\n",
    "print(\"{0:05d}\".format(42))"
   ]
  },
  {
   "cell_type": "markdown",
   "metadata": {},
   "source": [
    "# % 연산자로 포매팅하기"
   ]
  },
  {
   "cell_type": "code",
   "execution_count": 12,
   "metadata": {},
   "outputs": [
    {
     "name": "stdout",
     "output_type": "stream",
     "text": [
      "7\n",
      "e : 2.72\n"
     ]
    }
   ],
   "source": [
    "s = \"%d\" % 7\n",
    "print(s)\n",
    "\n",
    "print(\"%(cont)s : %(value).2f\" %{'cont':'e', 'value':2.718})"
   ]
  },
  {
   "cell_type": "markdown",
   "metadata": {},
   "source": [
    "# f-strings로 포매팅 사용하기"
   ]
  },
  {
   "cell_type": "code",
   "execution_count": 13,
   "metadata": {},
   "outputs": [
    {
     "name": "stdout",
     "output_type": "stream",
     "text": [
      "It's just a flesh wound!\n"
     ]
    }
   ],
   "source": [
    "# 문자열 앞에 f를 붙인다\n",
    "\n",
    "var = 'flesh wound'\n",
    "s = f\"It's just a {var}!\"\n",
    "print(s)"
   ]
  },
  {
   "cell_type": "markdown",
   "metadata": {},
   "source": [
    "# 정규식으로 전화번호 패턴 찾기"
   ]
  },
  {
   "cell_type": "markdown",
   "metadata": {},
   "source": [
    "#### 기본 정규식 문법"
   ]
  },
  {
   "cell_type": "markdown",
   "metadata": {},
   "source": [
    "- .a : a 앞에 문자 1개가 있는 패턴 찾음\n",
    "- ^I like : 문자열의 처음부터 일치하는 패턴 찾음\n",
    "- on$ : 문자열의 끝부분부터 일치하는 패턴 찾음\n",
    "- n\\d* : n 이후 숫자(\\d)가 0개 이상인 패턴 찾음\n",
    "- n\\d+ : n 이후 숫자(\\d)가 1개 이상인 패턴 찾음\n",
    "- apple? : ?의 앞의 e가 있거나 없는 패턴 찾음\n",
    "- n\\d{2} : n 이후 숫자가 2개인 패턴을 찾음\n",
    "- n\\d{2, 4} : n 이후 숫자가 2개이상, 4개이하인 패턴 찾음\n",
    "- \\*, \\?, \\+ : *, ?, +와 같은 특수 문자를 검색할 때 이스케이프 문자 사용\n",
    "- [cfh]all : c, f, h 중 1개를 포함하고 나머지 문자열이 all인 패턴 찾음\n",
    "- apple | application : apple이나 application 중 하나만 있는 패턴 찾음\n",
    "- (\\d+)-(\\d+)-(\\d+) : ()에 지정한 패턴 찾음"
   ]
  },
  {
   "cell_type": "markdown",
   "metadata": {},
   "source": [
    "#### 정규식 특수 문자\n",
    "- \\d : 숫자 1개\n",
    "- \\D : 숫자 이외의 문자 1개\n",
    "- \\s : 공백이나 탭 1개\n",
    "- \\S : 공백 문자 이외의 문자 1개\n",
    "- \\w : 알파벳 1개\n",
    "- \\W : 알파벳 이외의 문자 1개"
   ]
  },
  {
   "cell_type": "markdown",
   "metadata": {},
   "source": [
    "#### 정규식 메서드"
   ]
  },
  {
   "cell_type": "code",
   "execution_count": null,
   "metadata": {},
   "outputs": [],
   "source": [
    "# search : 첫번째로 찾은 패턴의 양 끝 인덱스 반환\n",
    "m = re.search('[0-9]{4}',test)\n",
    "print(m.group( ))\n",
    "\n",
    "# match : 문자열의 처음부터 검색하여 찾아낸 패턴의 양 끝 인덱스 반환\n",
    "m = re.match('[0-9]{4}', test)\n",
    "print(m)\n",
    "\n",
    "# fullmatch : 전체 문자열이 일치하는지 검사\n",
    "m = re.fullmatch('\\d+\\s\\d+\\s\\d+\\s\\d+',test)\n",
    "print(bool(m))\n",
    "\n",
    "# split : 지정한 패턴으로 잘라낸 문자열을 리스트로 반환\n",
    "m = re.split('\\s', test)\n",
    "print(m)\n",
    "\n",
    "# findall : 지정한 패턴을 찾아 리스트로 반환\n",
    "m = re.findall('[0-9]{4}', test)\n",
    "print(m)\n",
    "\n",
    "# finditer : findall 메서드와 기능이 동일하지만 iterator를 반환\n",
    "m = re.finditer('[0-9]{4}', test)\n",
    "for match in m:\n",
    "    \n",
    "# sub : 첫번째 인자로 전달한 값(패턴)을 두 번째 인자로 전달한 값(easyspub)으로 교체\n",
    "print(re.sub(\"\\s\",\"-\",\"test\"))\n"
   ]
  },
  {
   "cell_type": "code",
   "execution_count": 14,
   "metadata": {},
   "outputs": [],
   "source": [
    "# 정규식으로 전화번호 패턴 찾기\n",
    "import re\n",
    "\n",
    "tele_num = '1234567890'"
   ]
  },
  {
   "cell_type": "code",
   "execution_count": 15,
   "metadata": {},
   "outputs": [
    {
     "name": "stdout",
     "output_type": "stream",
     "text": [
      "<class 're.Match'>\n",
      "<re.Match object; span=(0, 10), match='1234567890'>\n"
     ]
    }
   ],
   "source": [
    "# match() -> 패턴을 찾으면 Match 오브젝트 반환 (span: 찾은 패턴의 인덱스, match : 찾은 패턴의 문자열)\n",
    "m = re.match(pattern='\\d\\d\\d\\d\\d\\d\\d\\d\\d\\d', string=tele_num)\n",
    "print(type(m))\n",
    "print(m)"
   ]
  },
  {
   "cell_type": "code",
   "execution_count": 16,
   "metadata": {},
   "outputs": [
    {
     "name": "stdout",
     "output_type": "stream",
     "text": [
      "0\n",
      "10\n",
      "(0, 10)\n",
      "1234567890\n"
     ]
    }
   ],
   "source": [
    "# Match 오브젝트 메서드\n",
    "print(m.start())\n",
    "print(m.end())\n",
    "print(m.span())\n",
    "print(m.group())"
   ]
  },
  {
   "cell_type": "code",
   "execution_count": 17,
   "metadata": {},
   "outputs": [
    {
     "name": "stdout",
     "output_type": "stream",
     "text": [
      "None\n"
     ]
    }
   ],
   "source": [
    "# 이러면 패턴 못찾음\n",
    "tele_num_spaces = '123 456 7890'\n",
    "m = re.match(pattern='\\d{10}', string=tele_num_spaces)\n",
    "print(m)"
   ]
  },
  {
   "cell_type": "code",
   "execution_count": 18,
   "metadata": {},
   "outputs": [
    {
     "name": "stdout",
     "output_type": "stream",
     "text": [
      "<re.Match object; span=(0, 12), match='123 456 7890'>\n"
     ]
    }
   ],
   "source": [
    "# 정규식 다시 작성 -> 빈칸을 의미하는 정규식 \\s?\n",
    "p = '\\d{3}\\s?\\d{3}\\s?\\d{4}'\n",
    "m = re.match(pattern=p, string=tele_num_spaces)\n",
    "print(m)"
   ]
  },
  {
   "cell_type": "code",
   "execution_count": 19,
   "metadata": {},
   "outputs": [
    {
     "name": "stdout",
     "output_type": "stream",
     "text": [
      "<re.Match object; span=(0, 14), match='(123) 456-7890'>\n"
     ]
    }
   ],
   "source": [
    "# 지역코드 있는 경우\n",
    "tele_num_space_paren_dash = '(123) 456-7890'\n",
    "p = '\\(?\\d{3}\\)?\\s?\\d{3}\\s?-?\\d{4}'\n",
    "m = re.match(pattern=p, string=tele_num_space_paren_dash)\n",
    "print(m)"
   ]
  },
  {
   "cell_type": "code",
   "execution_count": 20,
   "metadata": {},
   "outputs": [
    {
     "name": "stdout",
     "output_type": "stream",
     "text": [
      "<re.Match object; span=(0, 17), match='+1 (123) 456-7890'>\n"
     ]
    }
   ],
   "source": [
    "# 국가코드 있는 경우\n",
    "cnty_tele_num_space_paren_dash = '+1 (123) 456-7890'\n",
    "p = '\\+?1\\s?\\(?\\d{3}\\)?\\s?\\d{3}\\s?-?\\d{4}'\n",
    "m = re.match(pattern=p, string=cnty_tele_num_space_paren_dash)\n",
    "print(m)"
   ]
  },
  {
   "cell_type": "markdown",
   "metadata": {},
   "source": [
    "# compile 메서드로 정규식 메서드 사용하기"
   ]
  },
  {
   "cell_type": "code",
   "execution_count": 21,
   "metadata": {},
   "outputs": [
    {
     "name": "stdout",
     "output_type": "stream",
     "text": [
      "<re.Match object; span=(0, 10), match='1234567890'>\n"
     ]
    }
   ],
   "source": [
    "p = re.compile('\\d{10}')\n",
    "s = '1234567890'\n",
    "m = p.match(s)\n",
    "print(m)"
   ]
  }
 ],
 "metadata": {
  "kernelspec": {
   "display_name": "Python 3",
   "language": "python",
   "name": "python3"
  },
  "language_info": {
   "codemirror_mode": {
    "name": "ipython",
    "version": 3
   },
   "file_extension": ".py",
   "mimetype": "text/x-python",
   "name": "python",
   "nbconvert_exporter": "python",
   "pygments_lexer": "ipython3",
   "version": "3.7.1"
  }
 },
 "nbformat": 4,
 "nbformat_minor": 1
}
